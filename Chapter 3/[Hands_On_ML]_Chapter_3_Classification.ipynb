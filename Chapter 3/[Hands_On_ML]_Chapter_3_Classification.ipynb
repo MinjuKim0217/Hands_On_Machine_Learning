{
  "nbformat": 4,
  "nbformat_minor": 0,
  "metadata": {
    "colab": {
      "name": "[Hands-On ML] Chapter 3. Classification.ipynb",
      "provenance": [],
      "authorship_tag": "ABX9TyOqXBVKaq226uGfKKbmdvGc",
      "include_colab_link": true
    },
    "kernelspec": {
      "name": "python3",
      "display_name": "Python 3"
    },
    "language_info": {
      "name": "python"
    }
  },
  "cells": [
    {
      "cell_type": "markdown",
      "metadata": {
        "id": "view-in-github",
        "colab_type": "text"
      },
      "source": [
        "<a href=\"https://colab.research.google.com/github/MinjuKim0217/Hands_On_Machine_Learning/blob/main/%5BHands_On_ML%5D_Chapter_3_Classification.ipynb\" target=\"_parent\"><img src=\"https://colab.research.google.com/assets/colab-badge.svg\" alt=\"Open In Colab\"/></a>"
      ]
    },
    {
      "cell_type": "code",
      "metadata": {
        "id": "mKVV7w5oy9Vs"
      },
      "source": [
        "#기본설정\n",
        "import numpy as np ##배열, 3장에서는 DataFrame은 다루지 않음\n",
        "import os  ##사실 3장에서는 필요 없음\n",
        "import matplotlib ##그림용\n",
        "import matplotlib.pyplot as plt ##그림용\n",
        "import sklearn ##사이킷런\n",
        "\n",
        "np.random.seed(42) ##랜덤시드\n",
        "\n",
        "matplotlib.rc('font', family='NanumBarunGothic') ##matplotlib 한글을 위해\n",
        "plt.rcParams['axes.unicode_minus'] = False ##한글을 위해"
      ],
      "execution_count": 1,
      "outputs": []
    },
    {
      "cell_type": "code",
      "metadata": {
        "id": "nvhkAHqXzB7a"
      },
      "source": [
        "from sklearn.datasets import fetch_openml ##책과 다름. 유의\n",
        "mnist = fetch_openml('mnist_784', version=1) ##mnist는 Bunch라는 자료구조\n",
        "X, y = mnist[\"data\"], mnist[\"target\"] ##numpy의 배열로 저장\n",
        "y = y.astype(np.int) ##mnist의 target이라는 key안에는 value가 문자열로 저장되어 있음. int로 바꿔줘야함.\n",
        "###읭스럽게도 4번 돌리면 home/scikit_learn_datasets/~/opemml.org에 data가 생김"
      ],
      "execution_count": 2,
      "outputs": []
    },
    {
      "cell_type": "code",
      "metadata": {
        "colab": {
          "base_uri": "https://localhost:8080/"
        },
        "id": "UcOFdAhc1Jbw",
        "outputId": "a9920ca7-22c8-4370-ce52-cde226d38412"
      },
      "source": [
        "print(X.shape) ## 결과 (70000, 784)\n",
        "print(y.shape) ## 결과 (70000,)"
      ],
      "execution_count": 4,
      "outputs": [
        {
          "output_type": "stream",
          "name": "stdout",
          "text": [
            "(70000, 784)\n",
            "(70000,)\n"
          ]
        }
      ]
    },
    {
      "cell_type": "markdown",
      "metadata": {
        "id": "1G-oZ_rC065F"
      },
      "source": [
        "Bunch 자료형은 value를 부를 때, DATA.KEY라는 식으로도 value를 부를 수 있음"
      ]
    },
    {
      "cell_type": "code",
      "metadata": {
        "colab": {
          "base_uri": "https://localhost:8080/",
          "height": 248
        },
        "id": "Ai7InwiB0zcA",
        "outputId": "18704f56-e222-4624-bc23-f532f1d8fef5"
      },
      "source": [
        "some_digit_9 = X[36000]\n",
        "some_digit_9_image = some_digit_9.reshape(28, 28) ### image 픽셀의 형태대로 shape를 만듦\n",
        "plt.imshow(some_digit_9_image, cmap = matplotlib.cm.binary,\n",
        "           interpolation=\"bilinear\")\n",
        "###matplotlib.cm.binary: 색 입히는 방식.색을 흰색에서부터 검은색으로 칠해줌\n",
        "###interpolation의 default값이 nearest임\n",
        "plt.axis(\"off\")\n",
        "\n",
        "plt.show()"
      ],
      "execution_count": 3,
      "outputs": [
        {
          "output_type": "display_data",
          "data": {
            "image/png": "[encoded data removed]",
            "text/plain": [
              "<Figure size 432x288 with 1 Axes>"
            ]
          },
          "metadata": {
            "needs_background": "light"
          }
        }
      ]
    },
    {
      "cell_type": "code",
      "metadata": {
        "colab": {
          "base_uri": "https://localhost:8080/"
        },
        "id": "InpVQgXi1Fus",
        "outputId": "6a0c6cbb-e3b9-483a-8271-b735eecc9846"
      },
      "source": [
        "y[36000] "
      ],
      "execution_count": 5,
      "outputs": [
        {
          "output_type": "execute_result",
          "data": {
            "text/plain": [
              "9"
            ]
          },
          "metadata": {},
          "execution_count": 5
        }
      ]
    },
    {
      "cell_type": "markdown",
      "metadata": {
        "id": "ocCK2Fwa1Zr2"
      },
      "source": [
        "훈련세트와 테스트세트를 나누자. "
      ]
    },
    {
      "cell_type": "code",
      "metadata": {
        "id": "hLqpzGBo1XFO"
      },
      "source": [
        "X_train, X_test, y_train, y_test = X[:60000], X[60000:], y[:60000], y[60000:]"
      ],
      "execution_count": 6,
      "outputs": []
    },
    {
      "cell_type": "code",
      "metadata": {
        "id": "mWLXZ76c1eet"
      },
      "source": [
        "shuffle_index = np.random.permutation(60000)\n",
        "X_train, y_train = X_train[shuffle_index], y_train[shuffle_index]"
      ],
      "execution_count": 7,
      "outputs": []
    },
    {
      "cell_type": "markdown",
      "metadata": {
        "id": "2sZjXIiI1grb"
      },
      "source": [
        "# 이진 분류기 훈련"
      ]
    },
    {
      "cell_type": "code",
      "metadata": {
        "id": "GqoHWJw41eh0"
      },
      "source": [
        "y_train_5 = (y_train == 5) ##bool 값으로 나옴\n",
        "y_test_5 = (y_test == 5)"
      ],
      "execution_count": 8,
      "outputs": []
    },
    {
      "cell_type": "code",
      "metadata": {
        "colab": {
          "base_uri": "https://localhost:8080/"
        },
        "id": "7dByhBJn1ekC",
        "outputId": "a134ab73-eb3b-47e2-a388-417a9999cb35"
      },
      "source": [
        "from sklearn.linear_model import SGDClassifier\n",
        "\n",
        "sgd_clf = SGDClassifier(max_iter=5, random_state=42) ##4단원에서 자세히 하겠습니다.\n",
        "sgd_clf.fit(X_train, y_train_5) ##fit 메소드를 사용, 각 객체 변수에 특정 값들을 저장.\n",
        "sgd_clf.predict([some_digit_9, X[1]]) ##some_digit_9은 (1, 784) 배열\n",
        "##some_digit_9이 5인가 ==> false"
      ],
      "execution_count": 9,
      "outputs": [
        {
          "output_type": "stream",
          "name": "stderr",
          "text": [
            "/usr/local/lib/python3.7/dist-packages/sklearn/linear_model/_stochastic_gradient.py:557: ConvergenceWarning: Maximum number of iteration reached before convergence. Consider increasing max_iter to improve the fit.\n",
            "  ConvergenceWarning)\n"
          ]
        },
        {
          "output_type": "execute_result",
          "data": {
            "text/plain": [
              "array([False, False])"
            ]
          },
          "metadata": {},
          "execution_count": 9
        }
      ]
    },
    {
      "cell_type": "markdown",
      "metadata": {
        "id": "ioNsB36G19b3"
      },
      "source": [
        "#성능 측정"
      ]
    },
    {
      "cell_type": "markdown",
      "metadata": {
        "id": "J6cXFIFd2AIz"
      },
      "source": [
        "## 교차검증을 사용한 정확도 측정"
      ]
    },
    {
      "cell_type": "code",
      "metadata": {
        "colab": {
          "base_uri": "https://localhost:8080/"
        },
        "id": "CZ30aQ861emW",
        "outputId": "a6556cf9-5f4a-425b-d13c-fcbf44c4c8f4"
      },
      "source": [
        "from sklearn.model_selection import StratifiedKFold\n",
        "from sklearn.base import clone\n",
        "\n",
        "skfolds = StratifiedKFold(n_splits=3, random_state=42)  ###랜덤 시드 42로 총 3번 train set과 test set을 나눔\n",
        "\n",
        "for train_index, test_index in skfolds.split(X_train, y_train_5):\n",
        "    clone_clf = clone(sgd_clf) ###sgd_clf의 clone을 만듦\n",
        "    X_train_folds = X_train[train_index]\n",
        "    y_train_folds = (y_train_5[train_index])\n",
        "    X_test_fold = X_train[test_index]\n",
        "    y_test_fold = (y_train_5[test_index])\n",
        "\n",
        "    clone_clf.fit(X_train_folds, y_train_folds)\n",
        "    y_pred = clone_clf.predict(X_test_fold)\n",
        "    n_correct = sum(y_pred == y_test_fold) ##bool 값을 sum하면 true의 개수가 나옴. 사실 파이썬에서 True=1, False=0\n",
        "    print(n_correct / len(y_pred)) ## scoring =' accuracy'"
      ],
      "execution_count": 10,
      "outputs": [
        {
          "output_type": "stream",
          "name": "stderr",
          "text": [
            "/usr/local/lib/python3.7/dist-packages/sklearn/model_selection/_split.py:296: FutureWarning: Setting a random_state has no effect since shuffle is False. This will raise an error in 0.24. You should leave random_state to its default (None), or set shuffle=True.\n",
            "  FutureWarning\n",
            "/usr/local/lib/python3.7/dist-packages/sklearn/linear_model/_stochastic_gradient.py:557: ConvergenceWarning: Maximum number of iteration reached before convergence. Consider increasing max_iter to improve the fit.\n",
            "  ConvergenceWarning)\n"
          ]
        },
        {
          "output_type": "stream",
          "name": "stdout",
          "text": [
            "0.964\n"
          ]
        },
        {
          "output_type": "stream",
          "name": "stderr",
          "text": [
            "/usr/local/lib/python3.7/dist-packages/sklearn/linear_model/_stochastic_gradient.py:557: ConvergenceWarning: Maximum number of iteration reached before convergence. Consider increasing max_iter to improve the fit.\n",
            "  ConvergenceWarning)\n"
          ]
        },
        {
          "output_type": "stream",
          "name": "stdout",
          "text": [
            "0.9579\n",
            "0.9571\n"
          ]
        },
        {
          "output_type": "stream",
          "name": "stderr",
          "text": [
            "/usr/local/lib/python3.7/dist-packages/sklearn/linear_model/_stochastic_gradient.py:557: ConvergenceWarning: Maximum number of iteration reached before convergence. Consider increasing max_iter to improve the fit.\n",
            "  ConvergenceWarning)\n"
          ]
        }
      ]
    },
    {
      "cell_type": "code",
      "metadata": {
        "colab": {
          "base_uri": "https://localhost:8080/"
        },
        "id": "0KQDeSdd2ILE",
        "outputId": "a96adef8-5e7f-4b90-c86c-1e8af0be5b3c"
      },
      "source": [
        "from sklearn.model_selection import cross_val_score\n",
        "\n",
        "cross_val_score(sgd_clf, X_train, y_train_5, cv=3, scoring='accuracy')\n",
        "## scoring ='acuracy' 는 맞은 개수 나누기 전체 개수\n"
      ],
      "execution_count": 12,
      "outputs": [
        {
          "output_type": "stream",
          "name": "stderr",
          "text": [
            "/usr/local/lib/python3.7/dist-packages/sklearn/linear_model/_stochastic_gradient.py:557: ConvergenceWarning: Maximum number of iteration reached before convergence. Consider increasing max_iter to improve the fit.\n",
            "  ConvergenceWarning)\n",
            "/usr/local/lib/python3.7/dist-packages/sklearn/linear_model/_stochastic_gradient.py:557: ConvergenceWarning: Maximum number of iteration reached before convergence. Consider increasing max_iter to improve the fit.\n",
            "  ConvergenceWarning)\n",
            "/usr/local/lib/python3.7/dist-packages/sklearn/linear_model/_stochastic_gradient.py:557: ConvergenceWarning: Maximum number of iteration reached before convergence. Consider increasing max_iter to improve the fit.\n",
            "  ConvergenceWarning)\n"
          ]
        },
        {
          "output_type": "execute_result",
          "data": {
            "text/plain": [
              "array([0.964 , 0.9579, 0.9571])"
            ]
          },
          "metadata": {},
          "execution_count": 12
        }
      ]
    },
    {
      "cell_type": "markdown",
      "metadata": {
        "id": "ntu6MrZ06HxB"
      },
      "source": [
        "95% 성능을 내는 분류기를 만듦. \n",
        "\n",
        "but 샘플 개수의 차이가 많이 나는 분류기에서 교차 검증은 효과적이지 못하다. \n",
        "\n",
        "ex.만약 데이터 '5'가 10개 , '5가 아닌것' 이 90개 이면 모든 샘플에게 5가 아니라고 말하는 분류기의 정확도는 90%이다. \n",
        "\n",
        "모든것을 5가 아니라고 말하는 분류기를 만들어서 교차검증 해보자"
      ]
    },
    {
      "cell_type": "code",
      "metadata": {
        "colab": {
          "base_uri": "https://localhost:8080/"
        },
        "id": "G_qqJ5pc2Lr5",
        "outputId": "efaa3bdc-19e1-4230-fcea-f9b6646f80e2"
      },
      "source": [
        "from sklearn.base import BaseEstimator\n",
        "class Never5Classifier(BaseEstimator):\n",
        "    def fit(self, X, y=None): ##cross_val_score에 들어가려면 필요함\n",
        "        pass\n",
        "    def predict(self, X):\n",
        "        return np.zeros((len(X),1), dtype=bool)\n",
        "never_5_clf = Never5Classifier()\n",
        "cross_val_score(never_5_clf, X_train, y_train_5, cv=3, scoring=\"accuracy\")\n",
        "###cross_val_score 안에 자동으로 fit 매소드와 .predict 객체변수를 불러오는 듯"
      ],
      "execution_count": 13,
      "outputs": [
        {
          "output_type": "execute_result",
          "data": {
            "text/plain": [
              "array([0.909  , 0.90745, 0.9125 ])"
            ]
          },
          "metadata": {},
          "execution_count": 13
        }
      ]
    },
    {
      "cell_type": "markdown",
      "metadata": {
        "id": "f2n8lOoZ7Vyn"
      },
      "source": [
        "무려 정확도가 90%가 높게 나옴-> 좋지 않은 모델이다. \n",
        "\n",
        "그러므로 클래스별로 샘플 개수가 많이 차이나는 데이터셋을 분류할 때 교차검증은 효과적이지 못한다. "
      ]
    },
    {
      "cell_type": "markdown",
      "metadata": {
        "id": "w_d9NDpv7jbo"
      },
      "source": [
        "## 오차행렬"
      ]
    },
    {
      "cell_type": "code",
      "metadata": {
        "colab": {
          "base_uri": "https://localhost:8080/"
        },
        "id": "bRiFET6z7S8k",
        "outputId": "f9661f05-7dde-4b35-bafa-d3d3b3ea01da"
      },
      "source": [
        "from sklearn.model_selection import cross_val_predict\n",
        "\n",
        "y_train_pred = cross_val_predict(sgd_clf, X_train, y_train_5, cv=3)\n",
        "## cv=3이니깐 데이터 셋을 1,2,3으로 나누고\n",
        "## 1,2로 3을 예측 & 1,3으로 2를 예측 $ 2,3으로 1을 예측하고\n",
        "## 우측에 있는 예측 값들을 반환함"
      ],
      "execution_count": 14,
      "outputs": [
        {
          "output_type": "stream",
          "name": "stderr",
          "text": [
            "/usr/local/lib/python3.7/dist-packages/sklearn/linear_model/_stochastic_gradient.py:557: ConvergenceWarning: Maximum number of iteration reached before convergence. Consider increasing max_iter to improve the fit.\n",
            "  ConvergenceWarning)\n",
            "/usr/local/lib/python3.7/dist-packages/sklearn/linear_model/_stochastic_gradient.py:557: ConvergenceWarning: Maximum number of iteration reached before convergence. Consider increasing max_iter to improve the fit.\n",
            "  ConvergenceWarning)\n",
            "/usr/local/lib/python3.7/dist-packages/sklearn/linear_model/_stochastic_gradient.py:557: ConvergenceWarning: Maximum number of iteration reached before convergence. Consider increasing max_iter to improve the fit.\n",
            "  ConvergenceWarning)\n"
          ]
        }
      ]
    },
    {
      "cell_type": "code",
      "metadata": {
        "colab": {
          "base_uri": "https://localhost:8080/"
        },
        "id": "TDOvhAKc9MmT",
        "outputId": "79405e63-ad3d-4b02-b163-66d903bac354"
      },
      "source": [
        "from sklearn.metrics import confusion_matrix\n",
        "\n",
        "confusion_matrix(y_train_5, y_train_pred)"
      ],
      "execution_count": 15,
      "outputs": [
        {
          "output_type": "execute_result",
          "data": {
            "text/plain": [
              "array([[54058,   521],\n",
              "       [ 1899,  3522]])"
            ]
          },
          "metadata": {},
          "execution_count": 15
        }
      ]
    },
    {
      "cell_type": "markdown",
      "metadata": {
        "id": "EOmA4DIt9Xn3"
      },
      "source": [
        "실제로 5가 아닌 것을 모델이 5가 아니라고 말한 개수가 52972\n",
        "\n",
        "실제로 5가 아닌 것을 모델이 5라고 말한 개수가 1607\n",
        "\n",
        "실제로 5인 것을 모델이 5가 아니라고 말한 개수가 989\n",
        "\n",
        "실제로 5인 것을 모델이 5라고 말한 개수가 4432\n",
        "\n",
        "![image.png](data:image/png;base64,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)\n",
        "\n",
        "행: 실제 클래스, 열: 예측 클래스\n",
        "\n",
        "TN 진짜 음성(음성, 양성은 예측을 기준으로 \n",
        "말합니다.)\n",
        "\n",
        "FP 거짓 양성\n",
        "\n",
        "FN 거짓 음성\n",
        "\n",
        "TP 진짜 양성"
      ]
    },
    {
      "cell_type": "markdown",
      "metadata": {
        "id": "9FfEI3pM-RBt"
      },
      "source": [
        "정밀도 = TP/(TP+FP)\n",
        "\n",
        "재현율 = TP/(TP+FN)\n",
        "\n",
        "\n",
        "이런 비율을 정의함으로서 저희는 각 클래스에 객체수에 상관없이 모델의 성능을 측정할 수 있습니다."
      ]
    },
    {
      "cell_type": "markdown",
      "metadata": {
        "id": "VxO2TKxe-cxg"
      },
      "source": [
        "## 정밀도와 재현율"
      ]
    },
    {
      "cell_type": "code",
      "metadata": {
        "colab": {
          "base_uri": "https://localhost:8080/"
        },
        "id": "GRsBSWMM9T53",
        "outputId": "f91e0847-dd9e-4dcb-f83d-79700486d9da"
      },
      "source": [
        "from sklearn.metrics import precision_score, recall_score\n",
        "\n",
        "print (precision_score(y_train_5, y_train_pred)) #정밀도\n",
        "print (recall_score(y_train_5, y_train_pred)) #재현율"
      ],
      "execution_count": 17,
      "outputs": [
        {
          "output_type": "stream",
          "name": "stdout",
          "text": [
            "0.8711352955725946\n",
            "0.6496956281128943\n"
          ]
        }
      ]
    },
    {
      "cell_type": "markdown",
      "metadata": {
        "id": "nOlJ4HAz-lCU"
      },
      "source": [
        "또 다른 지표가 있는데 F1 점수라고 합니다.\n",
        "\n",
        "F1=2/{(1/precision)+(1/recall)}\n",
        "\n"
      ]
    },
    {
      "cell_type": "code",
      "metadata": {
        "colab": {
          "base_uri": "https://localhost:8080/"
        },
        "id": "S-2caAkh-gMN",
        "outputId": "19c0ca4c-0dbe-4415-9776-5858793a7cf5"
      },
      "source": [
        "from sklearn.metrics import f1_score\n",
        "\n",
        "f1_score(y_train_5, y_train_pred)"
      ],
      "execution_count": 18,
      "outputs": [
        {
          "output_type": "execute_result",
          "data": {
            "text/plain": [
              "0.7442941673710904"
            ]
          },
          "metadata": {},
          "execution_count": 18
        }
      ]
    },
    {
      "cell_type": "markdown",
      "metadata": {
        "id": "kEgK5yUj-4Te"
      },
      "source": [
        "## 정밀도/재현율 트레이트 오프"
      ]
    },
    {
      "cell_type": "markdown",
      "metadata": {
        "id": "N4d_70q4EFpr"
      },
      "source": [
        "모델을 훈련 시키면 모델은 각 데이터에게 점수를 줍니다. \n",
        "\n",
        "밑에 그림을 보면 각 점수가 1, 10, 20, 30, 40, 50, 60, 70 입니다. \n",
        "\n",
        "이때 이 점수가 결정 임곗값(threshold)을 넘으면 양성, 넘지 않으면 음성입니다. \n",
        "\n",
        "여기서 중요한게 결정 임곗값에 따라 정밀도와 재현율이 달라집니다. \n",
        "\n",
        "그림에서 볼 수 있듯이 임곗값이 올라갈 수록 정밀도는 커지고 재현율은 줄어듭니다.\n",
        "![image.png](data:image/png;base64,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)\n",
        "\n",
        "가장 기초적으로는 임곗값이 올라가면 FP가 감소하고 FN이 증가합니다.\n",
        "\n",
        "이해가 쉽도록 몇 가지 성질을 말해보겠습니다.\n",
        "\n",
        "- 임곗값 증가 »> 정밀도 증가, 재현율 감소\n",
        "\n",
        "- 임곗값 감소 »> 재현율 감소, 정밀도 증가\n",
        "\n",
        "- FP 감소 & FN 증가 »> 정밀도 증가\n",
        "\n",
        "- FP 증가 & FN 감소 »> 재현율 증가\n",
        "\n",
        "좀 더 나아가서 말로 풀어보겠습니다.\n",
        "\n",
        "- 정밀도가 높다 - 거짓을 잘 구분해낸다. 참을 놓칠 수 있다.\n",
        "\n",
        "- 재현율이 높다 - 거짓을 잘 구분하지 못한다. 참을 놓치지 않는다.\n",
        "\n",
        "- 정밀도가 높다 - 참이라고 말한 것 중에 참인 것이 많다.\n",
        "\n",
        "- 정밀도가 높다 - 거짓인 것 중 거짓이라고 말한 것이 많다.\n",
        "\n",
        "- 재현율이 높다 - 참인 것 중 참이라고 말한 것이 많다.\n",
        "\n",
        "- 재현율이 높다 - 거짓이라고 말한 것 중 거짓인 것이 많다.\n",
        "\n",
        "결과적으로 두 지표는 트레이드 오프 관계입니다. \n",
        "\n",
        "상황에 따라 정밀도가 중요한 상황과 재현율이 중요한 상황이 있습니다.\n",
        "\n",
        "1. 암환자를 구별할 때, 임곗값을 낮춰서 재현율을 높이는 것이 좋습니다. 왜냐하면 실제로 암에 걸리지는 않은 환자가 있을 수는 있지만 암에 걸린 환자는 확실히 치료를 시도할 수 있으니까요.\n",
        "\n",
        "\n",
        "2. 판사가 재판을 할 때, 임곗값을 높여서 정밀도를 높이는 것이 좋습니다. 왜냐하면 무죄추정의 원칙에 의해서 무고한 사람이 감옥에 가면 안되기 때문입니다."
      ]
    },
    {
      "cell_type": "code",
      "metadata": {
        "colab": {
          "base_uri": "https://localhost:8080/"
        },
        "id": "rghqPiEa-03t",
        "outputId": "0b088260-83a5-42b6-f557-10b9243d1695"
      },
      "source": [
        "# 적절한 임곗값을 구하기 위해 모든 샘플의 점수 구하기\n",
        "y_scores = cross_val_predict(sgd_clf, X_train, y_train_5, cv=3,\n",
        "                            method=\"decision_function\")\n",
        "##어떤 식으로 scoring을 계산하는지는 모릅니다.\n",
        "##나중에 4단원에서 안나오면 다시 공부할 것입니다."
      ],
      "execution_count": 20,
      "outputs": [
        {
          "output_type": "stream",
          "name": "stderr",
          "text": [
            "/usr/local/lib/python3.7/dist-packages/sklearn/linear_model/_stochastic_gradient.py:557: ConvergenceWarning: Maximum number of iteration reached before convergence. Consider increasing max_iter to improve the fit.\n",
            "  ConvergenceWarning)\n",
            "/usr/local/lib/python3.7/dist-packages/sklearn/linear_model/_stochastic_gradient.py:557: ConvergenceWarning: Maximum number of iteration reached before convergence. Consider increasing max_iter to improve the fit.\n",
            "  ConvergenceWarning)\n",
            "/usr/local/lib/python3.7/dist-packages/sklearn/linear_model/_stochastic_gradient.py:557: ConvergenceWarning: Maximum number of iteration reached before convergence. Consider increasing max_iter to improve the fit.\n",
            "  ConvergenceWarning)\n"
          ]
        }
      ]
    },
    {
      "cell_type": "code",
      "metadata": {
        "id": "8WDx72D4HZfw"
      },
      "source": [
        "# 이 점수로 precision_recall_curve() 함수를 사용해서 가능한 임곗값에 대해 정밀도와 재현율 그래프 그려보자\n",
        "from sklearn.metrics import precision_recall_curve\n",
        "\n",
        "precisions, recalls, thresholds = precision_recall_curve(y_train_5, y_scores)"
      ],
      "execution_count": 21,
      "outputs": []
    },
    {
      "cell_type": "code",
      "metadata": {
        "colab": {
          "base_uri": "https://localhost:8080/"
        },
        "id": "Y7ovP7VtHm09",
        "outputId": "eced6c75-0482-4474-de7e-9448ecc2993a"
      },
      "source": [
        "y_train_pred_90 = (y_scores > 70000) ##대충보고... 임계값을 설정\n",
        "print(precision_score(y_train_5, y_train_pred_90)) #정밀도 계산\n",
        "print(recall_score(y_train_5, y_train_pred_90)) #재현율 계산"
      ],
      "execution_count": 22,
      "outputs": [
        {
          "output_type": "stream",
          "name": "stdout",
          "text": [
            "0.9309882747068676\n",
            "0.5126360450101457\n"
          ]
        }
      ]
    },
    {
      "cell_type": "markdown",
      "metadata": {
        "id": "av8vDGsLKPW3"
      },
      "source": [
        "## ROC곡선"
      ]
    },
    {
      "cell_type": "markdown",
      "metadata": {
        "id": "XCfk8JVRKTaU"
      },
      "source": [
        "거짓 양성 비율(FPR)에 대한 진짜 양성 비율(TPR, 재연율의 다른 이름)입니다.\n",
        "\n",
        "- 거짓 양성 비율(FPR) = FP/(FP+TN) (낮을 수록 좋음)"
      ]
    },
    {
      "cell_type": "code",
      "metadata": {
        "id": "wgZWPrsoKN-K"
      },
      "source": [
        "from sklearn.metrics import roc_curve\n",
        "\n",
        "fpr, tpr, threshold = roc_curve(y_train_5, y_scores)"
      ],
      "execution_count": 24,
      "outputs": []
    },
    {
      "cell_type": "code",
      "metadata": {
        "colab": {
          "base_uri": "https://localhost:8080/",
          "height": 889
        },
        "id": "x1Y87kAWKcw-",
        "outputId": "c36dab18-cada-4888-8ced-51e5274e0986"
      },
      "source": [
        "def plot_roc_curve(fpr,tpr, label=None):\n",
        "  plt.plot(fpr,tpr, linewidth=2, label=label)\n",
        "  plt.plot([0,1], [0,1], 'k--')\n",
        "  plt.axis([0,1,0,1])\n",
        "  plt.xlabel('거짓양성비율')\n",
        "  plt.ylabel('진짜양성비율')\n",
        "\n",
        "plot_roc_curve(fpr, tpr)"
      ],
      "execution_count": 25,
      "outputs": [
        {
          "output_type": "stream",
          "name": "stderr",
          "text": [
            "findfont: Font family ['NanumBarunGothic'] not found. Falling back to DejaVu Sans.\n",
            "/usr/local/lib/python3.7/dist-packages/matplotlib/backends/backend_agg.py:214: RuntimeWarning: Glyph 44144 missing from current font.\n",
            "  font.set_text(s, 0.0, flags=flags)\n",
            "/usr/local/lib/python3.7/dist-packages/matplotlib/backends/backend_agg.py:214: RuntimeWarning: Glyph 51667 missing from current font.\n",
            "  font.set_text(s, 0.0, flags=flags)\n",
            "/usr/local/lib/python3.7/dist-packages/matplotlib/backends/backend_agg.py:214: RuntimeWarning: Glyph 50577 missing from current font.\n",
            "  font.set_text(s, 0.0, flags=flags)\n",
            "/usr/local/lib/python3.7/dist-packages/matplotlib/backends/backend_agg.py:214: RuntimeWarning: Glyph 49457 missing from current font.\n",
            "  font.set_text(s, 0.0, flags=flags)\n",
            "/usr/local/lib/python3.7/dist-packages/matplotlib/backends/backend_agg.py:214: RuntimeWarning: Glyph 48708 missing from current font.\n",
            "  font.set_text(s, 0.0, flags=flags)\n",
            "/usr/local/lib/python3.7/dist-packages/matplotlib/backends/backend_agg.py:214: RuntimeWarning: Glyph 50984 missing from current font.\n",
            "  font.set_text(s, 0.0, flags=flags)\n",
            "/usr/local/lib/python3.7/dist-packages/matplotlib/backends/backend_agg.py:183: RuntimeWarning: Glyph 44144 missing from current font.\n",
            "  font.set_text(s, 0, flags=flags)\n",
            "/usr/local/lib/python3.7/dist-packages/matplotlib/backends/backend_agg.py:183: RuntimeWarning: Glyph 51667 missing from current font.\n",
            "  font.set_text(s, 0, flags=flags)\n",
            "/usr/local/lib/python3.7/dist-packages/matplotlib/backends/backend_agg.py:183: RuntimeWarning: Glyph 50577 missing from current font.\n",
            "  font.set_text(s, 0, flags=flags)\n",
            "/usr/local/lib/python3.7/dist-packages/matplotlib/backends/backend_agg.py:183: RuntimeWarning: Glyph 49457 missing from current font.\n",
            "  font.set_text(s, 0, flags=flags)\n",
            "/usr/local/lib/python3.7/dist-packages/matplotlib/backends/backend_agg.py:183: RuntimeWarning: Glyph 48708 missing from current font.\n",
            "  font.set_text(s, 0, flags=flags)\n",
            "/usr/local/lib/python3.7/dist-packages/matplotlib/backends/backend_agg.py:183: RuntimeWarning: Glyph 50984 missing from current font.\n",
            "  font.set_text(s, 0, flags=flags)\n",
            "/usr/local/lib/python3.7/dist-packages/matplotlib/backends/backend_agg.py:214: RuntimeWarning: Glyph 51652 missing from current font.\n",
            "  font.set_text(s, 0.0, flags=flags)\n",
            "/usr/local/lib/python3.7/dist-packages/matplotlib/backends/backend_agg.py:214: RuntimeWarning: Glyph 51676 missing from current font.\n",
            "  font.set_text(s, 0.0, flags=flags)\n",
            "/usr/local/lib/python3.7/dist-packages/matplotlib/backends/backend_agg.py:183: RuntimeWarning: Glyph 51652 missing from current font.\n",
            "  font.set_text(s, 0, flags=flags)\n",
            "/usr/local/lib/python3.7/dist-packages/matplotlib/backends/backend_agg.py:183: RuntimeWarning: Glyph 51676 missing from current font.\n",
            "  font.set_text(s, 0, flags=flags)\n"
          ]
        },
        {
          "output_type": "display_data",
          "data": {
            "image/png": "[encoded data removed]",
            "text/plain": [
              "<Figure size 432x288 with 1 Axes>"
            ]
          },
          "metadata": {
            "needs_background": "light"
          }
        }
      ]
    },
    {
      "cell_type": "markdown",
      "metadata": {
        "id": "9xgb8zl5NBD2"
      },
      "source": [
        "거짓 양성 비율도 진짜 양성 비율(재현율)과 트레이드오프 관계가 있습니다. 좋은 분류기는 y=x 그래프와 ROC 곡선이 최대한 멀리 떨어져 있어야 합니다. 곡선 아래의 면적을 새로운 지표로 생각하고 이를 통해 분류기들을 비교할 수 있습니다. 이를 AUC(area under the curve) 측정 이라고 합니다."
      ]
    },
    {
      "cell_type": "code",
      "metadata": {
        "colab": {
          "base_uri": "https://localhost:8080/"
        },
        "id": "wEW4Hmv-K3Fj",
        "outputId": "08701f97-f029-4042-e337-d3b369e92e4b"
      },
      "source": [
        "from sklearn.metrics import roc_auc_score\n",
        "\n",
        "roc_auc_score(y_train_5, y_scores)"
      ],
      "execution_count": 26,
      "outputs": [
        {
          "output_type": "execute_result",
          "data": {
            "text/plain": [
              "0.9598058535696421"
            ]
          },
          "metadata": {},
          "execution_count": 26
        }
      ]
    },
    {
      "cell_type": "code",
      "metadata": {
        "id": "hQ3dO0AVNRm0"
      },
      "source": [
        "from sklearn.ensemble import RandomForestClassifier\n",
        "\n",
        "forest_clf = RandomForestClassifier(n_estimators=10, random_state=42)\n",
        "y_probas_forest = cross_val_predict(forest_clf, X_train, y_train_5, cv=3,\n",
        "                                    method=\"predict_proba\")\n",
        "y_scores_forest = y_probas_forest[:, 1] ## 5 클래스에 들어갈 확률을 점수로 사용\n",
        "fpr_forest, tpr_forest, thresholds_forest = roc_curve(y_train_5,y_scores_forest)\n",
        "## y_train_5는 bool 값을 가지고 있는 배열"
      ],
      "execution_count": 27,
      "outputs": []
    },
    {
      "cell_type": "code",
      "metadata": {
        "colab": {
          "base_uri": "https://localhost:8080/",
          "height": 981
        },
        "id": "zPMdq8H8NTOa",
        "outputId": "0073d4ae-5fc7-44ad-9a15-710fc0d95411"
      },
      "source": [
        "plt.figure(figsize=(8,6))\n",
        "plt.plot(fpr, tpr, \"b\", linewidth=2, label=\"SGD\")\n",
        "plot_roc_curve(fpr_forest, tpr_forest, label=\"random forest\")\n",
        "plt.legend(loc=\"lower right\", fontsize=14)\n",
        "plt.show()"
      ],
      "execution_count": 30,
      "outputs": [
        {
          "output_type": "stream",
          "name": "stderr",
          "text": [
            "/usr/local/lib/python3.7/dist-packages/matplotlib/backends/backend_agg.py:214: RuntimeWarning: Glyph 44144 missing from current font.\n",
            "  font.set_text(s, 0.0, flags=flags)\n",
            "/usr/local/lib/python3.7/dist-packages/matplotlib/backends/backend_agg.py:214: RuntimeWarning: Glyph 51667 missing from current font.\n",
            "  font.set_text(s, 0.0, flags=flags)\n",
            "/usr/local/lib/python3.7/dist-packages/matplotlib/backends/backend_agg.py:214: RuntimeWarning: Glyph 50577 missing from current font.\n",
            "  font.set_text(s, 0.0, flags=flags)\n",
            "/usr/local/lib/python3.7/dist-packages/matplotlib/backends/backend_agg.py:214: RuntimeWarning: Glyph 49457 missing from current font.\n",
            "  font.set_text(s, 0.0, flags=flags)\n",
            "/usr/local/lib/python3.7/dist-packages/matplotlib/backends/backend_agg.py:214: RuntimeWarning: Glyph 48708 missing from current font.\n",
            "  font.set_text(s, 0.0, flags=flags)\n",
            "/usr/local/lib/python3.7/dist-packages/matplotlib/backends/backend_agg.py:214: RuntimeWarning: Glyph 50984 missing from current font.\n",
            "  font.set_text(s, 0.0, flags=flags)\n",
            "/usr/local/lib/python3.7/dist-packages/matplotlib/backends/backend_agg.py:214: RuntimeWarning: Glyph 51652 missing from current font.\n",
            "  font.set_text(s, 0.0, flags=flags)\n",
            "/usr/local/lib/python3.7/dist-packages/matplotlib/backends/backend_agg.py:214: RuntimeWarning: Glyph 51676 missing from current font.\n",
            "  font.set_text(s, 0.0, flags=flags)\n",
            "/usr/local/lib/python3.7/dist-packages/matplotlib/backends/backend_agg.py:183: RuntimeWarning: Glyph 44144 missing from current font.\n",
            "  font.set_text(s, 0, flags=flags)\n",
            "/usr/local/lib/python3.7/dist-packages/matplotlib/backends/backend_agg.py:183: RuntimeWarning: Glyph 51667 missing from current font.\n",
            "  font.set_text(s, 0, flags=flags)\n",
            "/usr/local/lib/python3.7/dist-packages/matplotlib/backends/backend_agg.py:183: RuntimeWarning: Glyph 50577 missing from current font.\n",
            "  font.set_text(s, 0, flags=flags)\n",
            "/usr/local/lib/python3.7/dist-packages/matplotlib/backends/backend_agg.py:183: RuntimeWarning: Glyph 49457 missing from current font.\n",
            "  font.set_text(s, 0, flags=flags)\n",
            "/usr/local/lib/python3.7/dist-packages/matplotlib/backends/backend_agg.py:183: RuntimeWarning: Glyph 48708 missing from current font.\n",
            "  font.set_text(s, 0, flags=flags)\n",
            "/usr/local/lib/python3.7/dist-packages/matplotlib/backends/backend_agg.py:183: RuntimeWarning: Glyph 50984 missing from current font.\n",
            "  font.set_text(s, 0, flags=flags)\n",
            "/usr/local/lib/python3.7/dist-packages/matplotlib/backends/backend_agg.py:183: RuntimeWarning: Glyph 51652 missing from current font.\n",
            "  font.set_text(s, 0, flags=flags)\n",
            "/usr/local/lib/python3.7/dist-packages/matplotlib/backends/backend_agg.py:183: RuntimeWarning: Glyph 51676 missing from current font.\n",
            "  font.set_text(s, 0, flags=flags)\n"
          ]
        },
        {
          "output_type": "display_data",
          "data": {
            "image/png": "[encoded data removed]",
            "text/plain": [
              "<Figure size 576x432 with 1 Axes>"
            ]
          },
          "metadata": {
            "needs_background": "light"
          }
        }
      ]
    },
    {
      "cell_type": "code",
      "metadata": {
        "colab": {
          "base_uri": "https://localhost:8080/"
        },
        "id": "k_bm9OwjN3OF",
        "outputId": "aa989e33-1750-4158-d67b-5f198e5fa487"
      },
      "source": [
        "roc_auc_score(y_train_5, y_scores_forest)"
      ],
      "execution_count": 31,
      "outputs": [
        {
          "output_type": "execute_result",
          "data": {
            "text/plain": [
              "0.9928250745111685"
            ]
          },
          "metadata": {},
          "execution_count": 31
        }
      ]
    },
    {
      "cell_type": "markdown",
      "metadata": {
        "id": "N8jkmegsOIpd"
      },
      "source": [
        "이것으로 RandomForestClassifier가 SGDClassifier보다 좋은 것을 알 수 있습니다. \n",
        "\n",
        "추가로 정밀도와 재현율을 구해보겠습니다."
      ]
    },
    {
      "cell_type": "code",
      "metadata": {
        "colab": {
          "base_uri": "https://localhost:8080/"
        },
        "id": "FYrUzIbeOKF8",
        "outputId": "13692967-680e-42f7-99dd-e692d55bf28e"
      },
      "source": [
        "y_train_pred_forest = cross_val_predict(forest_clf, X_train, y_train_5, cv=3)\n",
        "precision_score(y_train_5, y_train_pred_forest)"
      ],
      "execution_count": 32,
      "outputs": [
        {
          "output_type": "execute_result",
          "data": {
            "text/plain": [
              "0.9870386643233744"
            ]
          },
          "metadata": {},
          "execution_count": 32
        }
      ]
    },
    {
      "cell_type": "code",
      "metadata": {
        "colab": {
          "base_uri": "https://localhost:8080/"
        },
        "id": "whJmp2SLONI2",
        "outputId": "b675b1df-ee05-494b-870b-a49b030273ab"
      },
      "source": [
        "recall_score(y_train_5, y_train_pred_forest)"
      ],
      "execution_count": 33,
      "outputs": [
        {
          "output_type": "execute_result",
          "data": {
            "text/plain": [
              "0.8288138719793396"
            ]
          },
          "metadata": {},
          "execution_count": 33
        }
      ]
    },
    {
      "cell_type": "markdown",
      "metadata": {
        "id": "Wj3RO0RFORgz"
      },
      "source": [
        "# 다중 분류\n",
        "\n",
        "이진 분류가 두 개의 클래스를 구별한다면 다중 분류기는 둘 이상의 클래스를 구별할 수 있습니다. 하지만 일부 알고리즘은 여러 개의 클래스를 직접 처리할 수 있지만, 몇 몇 알고리즘은 이진 분류만 가능합니다. 그럼에도 불구하고 이진 분류기를 여러 개 이용해 다중 클래스를 분류하는 기법도 있습니다.\n",
        "\n",
        "\n",
        "\n",
        "1. 일대다(OvA)전략: 특정 숫자 하나만 구분하는 숫자별 이진 분류기 10개(0에서 부터 9까지)를 훈련시켜 클래스가 10개인 숫자 이미지 분류 시스템을 만들 수 있습니다. 이미지를 분류할 때 각 분류기의 결정 점수 중에서 가장 높은 것을 클래스로 선택하면 됩니다.\n",
        "\n",
        "2. 일대일(OvO)전략: 0과 1 구별, 0과 2 구별, 1과 2 구별 등과 같이 각 숫자의 조합마다 이진 분류기를 훈련시키는 것입니다. 따라서 클래스가 N개라면 분류기는 N * (N - 1) / 2개가 필요합니다. 이미지 하나를 분류하려면 46개 분류기 모두를 통과시켜서 가장 많이 양성으로 분류된 클래스를 선택하면 됩니다.\n",
        "\n",
        "- 일대일(OvO) 전략의 주요 장점은 각 분류기의 훈련에 전체 훈련 세트 중 구별할 두 클래스에 해당하는 샘플만 필요하다는 것입니다.\n",
        "\n",
        "- 예를 들어 서포트 벡터 머신 같은 일부 알고리즘은 훈련 세트의 크기에 민감해서 큰 훈련 세트에서 몇 개의 분류기를 훈련시키는 것보다 작은 훈련 세트에서 많은 분류기를 훈련시키는 쪽이 빠릅니다.\n",
        "\n",
        "- 다중 클래스 분류 작업에 이진 분류 알고리즘을 선택하면 사이킷런이 자동으로 감지해 OvA 혹은 OvO를 적용합니다."
      ]
    },
    {
      "cell_type": "code",
      "metadata": {
        "colab": {
          "base_uri": "https://localhost:8080/"
        },
        "id": "BV5aaRGfOPKa",
        "outputId": "b0a76e76-07e4-4d51-bfbd-4f680301b4bf"
      },
      "source": [
        "# SGDCLASSIFIER 훈령\n",
        "sgd_clf.fit(X_train, y_train)\n",
        "sgd_clf.predict([some_digit_9])"
      ],
      "execution_count": 34,
      "outputs": [
        {
          "output_type": "stream",
          "name": "stderr",
          "text": [
            "/usr/local/lib/python3.7/dist-packages/sklearn/linear_model/_stochastic_gradient.py:557: ConvergenceWarning: Maximum number of iteration reached before convergence. Consider increasing max_iter to improve the fit.\n",
            "  ConvergenceWarning)\n"
          ]
        },
        {
          "output_type": "execute_result",
          "data": {
            "text/plain": [
              "array([9])"
            ]
          },
          "metadata": {},
          "execution_count": 34
        }
      ]
    },
    {
      "cell_type": "code",
      "metadata": {
        "colab": {
          "base_uri": "https://localhost:8080/"
        },
        "id": "Fu234d6rPiGM",
        "outputId": "c3f2cda6-2a54-4c58-d89b-1896ea51598d"
      },
      "source": [
        "some_digit_9_scores = sgd_clf.decision_function([some_digit_9])\n",
        "some_digit_9_scores"
      ],
      "execution_count": 35,
      "outputs": [
        {
          "output_type": "execute_result",
          "data": {
            "text/plain": [
              "array([[-780634.17445014, -367988.10902669, -857510.2219226 ,\n",
              "        -109587.17435534,   -6978.239532  , -120352.38122307,\n",
              "        -785831.32198027, -377771.38059503, -198143.6559996 ,\n",
              "         107815.22648992]])"
            ]
          },
          "metadata": {},
          "execution_count": 35
        }
      ]
    },
    {
      "cell_type": "code",
      "metadata": {
        "colab": {
          "base_uri": "https://localhost:8080/"
        },
        "id": "-i7IiGHZPloG",
        "outputId": "824f9a09-2180-4713-83b8-eecea5bfc791"
      },
      "source": [
        "np.argmax(some_digit_9_scores)"
      ],
      "execution_count": 36,
      "outputs": [
        {
          "output_type": "execute_result",
          "data": {
            "text/plain": [
              "9"
            ]
          },
          "metadata": {},
          "execution_count": 36
        }
      ]
    },
    {
      "cell_type": "code",
      "metadata": {
        "colab": {
          "base_uri": "https://localhost:8080/"
        },
        "id": "l5V9rjtgPsA8",
        "outputId": "81667282-f164-4755-a94e-0dfc80d8196c"
      },
      "source": [
        "sgd_clf.classes_"
      ],
      "execution_count": 37,
      "outputs": [
        {
          "output_type": "execute_result",
          "data": {
            "text/plain": [
              "array([0, 1, 2, 3, 4, 5, 6, 7, 8, 9])"
            ]
          },
          "metadata": {},
          "execution_count": 37
        }
      ]
    },
    {
      "cell_type": "code",
      "metadata": {
        "colab": {
          "base_uri": "https://localhost:8080/"
        },
        "id": "-iZEHJ1fPtb-",
        "outputId": "16bec886-a540-4dd5-f430-d8ecdfc97578"
      },
      "source": [
        "#OvO or OvA  강제로 선택 가능\n",
        "from sklearn.multiclass import OneVsOneClassifier\n",
        "ovo_clf = OneVsOneClassifier(SGDClassifier(max_iter=5, random_state=42))\n",
        "ovo_clf.fit(X_train, y_train) ##fit 매소드를 실행하면서 여러가지 객체 변수에 값을 집어넣음.\n",
        "ovo_clf.predict([some_digit_9])"
      ],
      "execution_count": 38,
      "outputs": [
        {
          "output_type": "stream",
          "name": "stderr",
          "text": [
            "/usr/local/lib/python3.7/dist-packages/sklearn/linear_model/_stochastic_gradient.py:557: ConvergenceWarning: Maximum number of iteration reached before convergence. Consider increasing max_iter to improve the fit.\n",
            "  ConvergenceWarning)\n",
            "/usr/local/lib/python3.7/dist-packages/sklearn/linear_model/_stochastic_gradient.py:557: ConvergenceWarning: Maximum number of iteration reached before convergence. Consider increasing max_iter to improve the fit.\n",
            "  ConvergenceWarning)\n",
            "/usr/local/lib/python3.7/dist-packages/sklearn/linear_model/_stochastic_gradient.py:557: ConvergenceWarning: Maximum number of iteration reached before convergence. Consider increasing max_iter to improve the fit.\n",
            "  ConvergenceWarning)\n",
            "/usr/local/lib/python3.7/dist-packages/sklearn/linear_model/_stochastic_gradient.py:557: ConvergenceWarning: Maximum number of iteration reached before convergence. Consider increasing max_iter to improve the fit.\n",
            "  ConvergenceWarning)\n",
            "/usr/local/lib/python3.7/dist-packages/sklearn/linear_model/_stochastic_gradient.py:557: ConvergenceWarning: Maximum number of iteration reached before convergence. Consider increasing max_iter to improve the fit.\n",
            "  ConvergenceWarning)\n",
            "/usr/local/lib/python3.7/dist-packages/sklearn/linear_model/_stochastic_gradient.py:557: ConvergenceWarning: Maximum number of iteration reached before convergence. Consider increasing max_iter to improve the fit.\n",
            "  ConvergenceWarning)\n",
            "/usr/local/lib/python3.7/dist-packages/sklearn/linear_model/_stochastic_gradient.py:557: ConvergenceWarning: Maximum number of iteration reached before convergence. Consider increasing max_iter to improve the fit.\n",
            "  ConvergenceWarning)\n",
            "/usr/local/lib/python3.7/dist-packages/sklearn/linear_model/_stochastic_gradient.py:557: ConvergenceWarning: Maximum number of iteration reached before convergence. Consider increasing max_iter to improve the fit.\n",
            "  ConvergenceWarning)\n",
            "/usr/local/lib/python3.7/dist-packages/sklearn/linear_model/_stochastic_gradient.py:557: ConvergenceWarning: Maximum number of iteration reached before convergence. Consider increasing max_iter to improve the fit.\n",
            "  ConvergenceWarning)\n",
            "/usr/local/lib/python3.7/dist-packages/sklearn/linear_model/_stochastic_gradient.py:557: ConvergenceWarning: Maximum number of iteration reached before convergence. Consider increasing max_iter to improve the fit.\n",
            "  ConvergenceWarning)\n",
            "/usr/local/lib/python3.7/dist-packages/sklearn/linear_model/_stochastic_gradient.py:557: ConvergenceWarning: Maximum number of iteration reached before convergence. Consider increasing max_iter to improve the fit.\n",
            "  ConvergenceWarning)\n",
            "/usr/local/lib/python3.7/dist-packages/sklearn/linear_model/_stochastic_gradient.py:557: ConvergenceWarning: Maximum number of iteration reached before convergence. Consider increasing max_iter to improve the fit.\n",
            "  ConvergenceWarning)\n",
            "/usr/local/lib/python3.7/dist-packages/sklearn/linear_model/_stochastic_gradient.py:557: ConvergenceWarning: Maximum number of iteration reached before convergence. Consider increasing max_iter to improve the fit.\n",
            "  ConvergenceWarning)\n",
            "/usr/local/lib/python3.7/dist-packages/sklearn/linear_model/_stochastic_gradient.py:557: ConvergenceWarning: Maximum number of iteration reached before convergence. Consider increasing max_iter to improve the fit.\n",
            "  ConvergenceWarning)\n",
            "/usr/local/lib/python3.7/dist-packages/sklearn/linear_model/_stochastic_gradient.py:557: ConvergenceWarning: Maximum number of iteration reached before convergence. Consider increasing max_iter to improve the fit.\n",
            "  ConvergenceWarning)\n",
            "/usr/local/lib/python3.7/dist-packages/sklearn/linear_model/_stochastic_gradient.py:557: ConvergenceWarning: Maximum number of iteration reached before convergence. Consider increasing max_iter to improve the fit.\n",
            "  ConvergenceWarning)\n",
            "/usr/local/lib/python3.7/dist-packages/sklearn/linear_model/_stochastic_gradient.py:557: ConvergenceWarning: Maximum number of iteration reached before convergence. Consider increasing max_iter to improve the fit.\n",
            "  ConvergenceWarning)\n",
            "/usr/local/lib/python3.7/dist-packages/sklearn/linear_model/_stochastic_gradient.py:557: ConvergenceWarning: Maximum number of iteration reached before convergence. Consider increasing max_iter to improve the fit.\n",
            "  ConvergenceWarning)\n",
            "/usr/local/lib/python3.7/dist-packages/sklearn/linear_model/_stochastic_gradient.py:557: ConvergenceWarning: Maximum number of iteration reached before convergence. Consider increasing max_iter to improve the fit.\n",
            "  ConvergenceWarning)\n",
            "/usr/local/lib/python3.7/dist-packages/sklearn/linear_model/_stochastic_gradient.py:557: ConvergenceWarning: Maximum number of iteration reached before convergence. Consider increasing max_iter to improve the fit.\n",
            "  ConvergenceWarning)\n",
            "/usr/local/lib/python3.7/dist-packages/sklearn/linear_model/_stochastic_gradient.py:557: ConvergenceWarning: Maximum number of iteration reached before convergence. Consider increasing max_iter to improve the fit.\n",
            "  ConvergenceWarning)\n",
            "/usr/local/lib/python3.7/dist-packages/sklearn/linear_model/_stochastic_gradient.py:557: ConvergenceWarning: Maximum number of iteration reached before convergence. Consider increasing max_iter to improve the fit.\n",
            "  ConvergenceWarning)\n",
            "/usr/local/lib/python3.7/dist-packages/sklearn/linear_model/_stochastic_gradient.py:557: ConvergenceWarning: Maximum number of iteration reached before convergence. Consider increasing max_iter to improve the fit.\n",
            "  ConvergenceWarning)\n",
            "/usr/local/lib/python3.7/dist-packages/sklearn/linear_model/_stochastic_gradient.py:557: ConvergenceWarning: Maximum number of iteration reached before convergence. Consider increasing max_iter to improve the fit.\n",
            "  ConvergenceWarning)\n",
            "/usr/local/lib/python3.7/dist-packages/sklearn/linear_model/_stochastic_gradient.py:557: ConvergenceWarning: Maximum number of iteration reached before convergence. Consider increasing max_iter to improve the fit.\n",
            "  ConvergenceWarning)\n",
            "/usr/local/lib/python3.7/dist-packages/sklearn/linear_model/_stochastic_gradient.py:557: ConvergenceWarning: Maximum number of iteration reached before convergence. Consider increasing max_iter to improve the fit.\n",
            "  ConvergenceWarning)\n",
            "/usr/local/lib/python3.7/dist-packages/sklearn/linear_model/_stochastic_gradient.py:557: ConvergenceWarning: Maximum number of iteration reached before convergence. Consider increasing max_iter to improve the fit.\n",
            "  ConvergenceWarning)\n",
            "/usr/local/lib/python3.7/dist-packages/sklearn/linear_model/_stochastic_gradient.py:557: ConvergenceWarning: Maximum number of iteration reached before convergence. Consider increasing max_iter to improve the fit.\n",
            "  ConvergenceWarning)\n",
            "/usr/local/lib/python3.7/dist-packages/sklearn/linear_model/_stochastic_gradient.py:557: ConvergenceWarning: Maximum number of iteration reached before convergence. Consider increasing max_iter to improve the fit.\n",
            "  ConvergenceWarning)\n",
            "/usr/local/lib/python3.7/dist-packages/sklearn/linear_model/_stochastic_gradient.py:557: ConvergenceWarning: Maximum number of iteration reached before convergence. Consider increasing max_iter to improve the fit.\n",
            "  ConvergenceWarning)\n",
            "/usr/local/lib/python3.7/dist-packages/sklearn/linear_model/_stochastic_gradient.py:557: ConvergenceWarning: Maximum number of iteration reached before convergence. Consider increasing max_iter to improve the fit.\n",
            "  ConvergenceWarning)\n",
            "/usr/local/lib/python3.7/dist-packages/sklearn/linear_model/_stochastic_gradient.py:557: ConvergenceWarning: Maximum number of iteration reached before convergence. Consider increasing max_iter to improve the fit.\n",
            "  ConvergenceWarning)\n",
            "/usr/local/lib/python3.7/dist-packages/sklearn/linear_model/_stochastic_gradient.py:557: ConvergenceWarning: Maximum number of iteration reached before convergence. Consider increasing max_iter to improve the fit.\n",
            "  ConvergenceWarning)\n",
            "/usr/local/lib/python3.7/dist-packages/sklearn/linear_model/_stochastic_gradient.py:557: ConvergenceWarning: Maximum number of iteration reached before convergence. Consider increasing max_iter to improve the fit.\n",
            "  ConvergenceWarning)\n",
            "/usr/local/lib/python3.7/dist-packages/sklearn/linear_model/_stochastic_gradient.py:557: ConvergenceWarning: Maximum number of iteration reached before convergence. Consider increasing max_iter to improve the fit.\n",
            "  ConvergenceWarning)\n",
            "/usr/local/lib/python3.7/dist-packages/sklearn/linear_model/_stochastic_gradient.py:557: ConvergenceWarning: Maximum number of iteration reached before convergence. Consider increasing max_iter to improve the fit.\n",
            "  ConvergenceWarning)\n",
            "/usr/local/lib/python3.7/dist-packages/sklearn/linear_model/_stochastic_gradient.py:557: ConvergenceWarning: Maximum number of iteration reached before convergence. Consider increasing max_iter to improve the fit.\n",
            "  ConvergenceWarning)\n",
            "/usr/local/lib/python3.7/dist-packages/sklearn/linear_model/_stochastic_gradient.py:557: ConvergenceWarning: Maximum number of iteration reached before convergence. Consider increasing max_iter to improve the fit.\n",
            "  ConvergenceWarning)\n",
            "/usr/local/lib/python3.7/dist-packages/sklearn/linear_model/_stochastic_gradient.py:557: ConvergenceWarning: Maximum number of iteration reached before convergence. Consider increasing max_iter to improve the fit.\n",
            "  ConvergenceWarning)\n",
            "/usr/local/lib/python3.7/dist-packages/sklearn/linear_model/_stochastic_gradient.py:557: ConvergenceWarning: Maximum number of iteration reached before convergence. Consider increasing max_iter to improve the fit.\n",
            "  ConvergenceWarning)\n",
            "/usr/local/lib/python3.7/dist-packages/sklearn/linear_model/_stochastic_gradient.py:557: ConvergenceWarning: Maximum number of iteration reached before convergence. Consider increasing max_iter to improve the fit.\n",
            "  ConvergenceWarning)\n",
            "/usr/local/lib/python3.7/dist-packages/sklearn/linear_model/_stochastic_gradient.py:557: ConvergenceWarning: Maximum number of iteration reached before convergence. Consider increasing max_iter to improve the fit.\n",
            "  ConvergenceWarning)\n",
            "/usr/local/lib/python3.7/dist-packages/sklearn/linear_model/_stochastic_gradient.py:557: ConvergenceWarning: Maximum number of iteration reached before convergence. Consider increasing max_iter to improve the fit.\n",
            "  ConvergenceWarning)\n",
            "/usr/local/lib/python3.7/dist-packages/sklearn/linear_model/_stochastic_gradient.py:557: ConvergenceWarning: Maximum number of iteration reached before convergence. Consider increasing max_iter to improve the fit.\n",
            "  ConvergenceWarning)\n",
            "/usr/local/lib/python3.7/dist-packages/sklearn/linear_model/_stochastic_gradient.py:557: ConvergenceWarning: Maximum number of iteration reached before convergence. Consider increasing max_iter to improve the fit.\n",
            "  ConvergenceWarning)\n"
          ]
        },
        {
          "output_type": "execute_result",
          "data": {
            "text/plain": [
              "array([4])"
            ]
          },
          "metadata": {},
          "execution_count": 38
        }
      ]
    },
    {
      "cell_type": "code",
      "metadata": {
        "colab": {
          "base_uri": "https://localhost:8080/"
        },
        "id": "FCYJkvQRP0HS",
        "outputId": "37f04a83-4297-40c5-c37c-2c150be1380a"
      },
      "source": [
        "\n",
        "#분류기 갯수\n",
        "len(ovo_clf.estimators_)"
      ],
      "execution_count": 39,
      "outputs": [
        {
          "output_type": "execute_result",
          "data": {
            "text/plain": [
              "45"
            ]
          },
          "metadata": {},
          "execution_count": 39
        }
      ]
    },
    {
      "cell_type": "code",
      "metadata": {
        "colab": {
          "base_uri": "https://localhost:8080/"
        },
        "id": "9Tp08VIoP6WR",
        "outputId": "3b4568c4-e208-4f1f-f560-3a4912cac274"
      },
      "source": [
        "# RandomForestClassifier 훈련\n",
        "\n",
        "forest_clf.fit(X_train, y_train)\n",
        "forest_clf.predict([some_digit_9])"
      ],
      "execution_count": 40,
      "outputs": [
        {
          "output_type": "execute_result",
          "data": {
            "text/plain": [
              "array([9])"
            ]
          },
          "metadata": {},
          "execution_count": 40
        }
      ]
    },
    {
      "cell_type": "code",
      "metadata": {
        "colab": {
          "base_uri": "https://localhost:8080/"
        },
        "id": "PsHSpQPVQFJE",
        "outputId": "82fe7944-bb85-4c4e-cc58-c4e2807424a7"
      },
      "source": [
        "#분류기가 추정하는 정도\n",
        "forest_clf.predict_proba([some_digit_9, X_train[10]])"
      ],
      "execution_count": 42,
      "outputs": [
        {
          "output_type": "execute_result",
          "data": {
            "text/plain": [
              "array([[0. , 0. , 0. , 0. , 0.1, 0. , 0. , 0. , 0. , 0.9],\n",
              "       [0. , 0. , 1. , 0. , 0. , 0. , 0. , 0. , 0. , 0. ]])"
            ]
          },
          "metadata": {},
          "execution_count": 42
        }
      ]
    },
    {
      "cell_type": "code",
      "metadata": {
        "colab": {
          "base_uri": "https://localhost:8080/"
        },
        "id": "Gj2u8xh7QfAN",
        "outputId": "58910998-c049-40ac-ef5f-1abcb23be4c9"
      },
      "source": [
        "# 분류기의 교차 검증\n",
        "cross_val_score(sgd_clf, X_train, y_train, cv=3, scoring='accuracy')"
      ],
      "execution_count": 43,
      "outputs": [
        {
          "output_type": "stream",
          "name": "stderr",
          "text": [
            "/usr/local/lib/python3.7/dist-packages/sklearn/linear_model/_stochastic_gradient.py:557: ConvergenceWarning: Maximum number of iteration reached before convergence. Consider increasing max_iter to improve the fit.\n",
            "  ConvergenceWarning)\n",
            "/usr/local/lib/python3.7/dist-packages/sklearn/linear_model/_stochastic_gradient.py:557: ConvergenceWarning: Maximum number of iteration reached before convergence. Consider increasing max_iter to improve the fit.\n",
            "  ConvergenceWarning)\n",
            "/usr/local/lib/python3.7/dist-packages/sklearn/linear_model/_stochastic_gradient.py:557: ConvergenceWarning: Maximum number of iteration reached before convergence. Consider increasing max_iter to improve the fit.\n",
            "  ConvergenceWarning)\n"
          ]
        },
        {
          "output_type": "execute_result",
          "data": {
            "text/plain": [
              "array([0.83935, 0.85125, 0.8676 ])"
            ]
          },
          "metadata": {},
          "execution_count": 43
        }
      ]
    },
    {
      "cell_type": "code",
      "metadata": {
        "colab": {
          "base_uri": "https://localhost:8080/"
        },
        "id": "3UZrXXInQquj",
        "outputId": "86efb33f-06b0-4594-9d28-0d5f6c819162"
      },
      "source": [
        "#분류기에서도  scale 조정을 해주면 추정값이 좋아진다.\n",
        "from sklearn.preprocessing import StandardScaler\n",
        "scaler=StandardScaler()\n",
        "X_train_scaled=scaler.fit_transform(X_train.astype(np.float64))\n",
        "cross_val_score(sgd_clf, X_train_scaled, y_train, cv=3, scoring='accuracy')"
      ],
      "execution_count": 44,
      "outputs": [
        {
          "output_type": "stream",
          "name": "stderr",
          "text": [
            "/usr/local/lib/python3.7/dist-packages/sklearn/linear_model/_stochastic_gradient.py:557: ConvergenceWarning: Maximum number of iteration reached before convergence. Consider increasing max_iter to improve the fit.\n",
            "  ConvergenceWarning)\n",
            "/usr/local/lib/python3.7/dist-packages/sklearn/linear_model/_stochastic_gradient.py:557: ConvergenceWarning: Maximum number of iteration reached before convergence. Consider increasing max_iter to improve the fit.\n",
            "  ConvergenceWarning)\n",
            "/usr/local/lib/python3.7/dist-packages/sklearn/linear_model/_stochastic_gradient.py:557: ConvergenceWarning: Maximum number of iteration reached before convergence. Consider increasing max_iter to improve the fit.\n",
            "  ConvergenceWarning)\n"
          ]
        },
        {
          "output_type": "execute_result",
          "data": {
            "text/plain": [
              "array([0.91155, 0.91005, 0.9095 ])"
            ]
          },
          "metadata": {},
          "execution_count": 44
        }
      ]
    },
    {
      "cell_type": "markdown",
      "metadata": {
        "id": "7r_JkDy0R1wv"
      },
      "source": [
        "# 에러분석"
      ]
    },
    {
      "cell_type": "markdown",
      "metadata": {
        "id": "qafewDGIR3ul"
      },
      "source": [
        "원칙적으로는\n",
        "\n",
        "1. 데이터 준비 단계에서 가능한 선택사항을 탐색하고\n",
        "2. 여러 모델을 시도하고\n",
        "3. 가장 좋은 몇개를 골라 GridSearchCV를 상ㅇ해 하이퍼파라미터를 세밀하게 튜닝하고\n",
        "4. 파이프라인을 통해 가능한 자동화해야함\n",
        "\n",
        "그러나 이 절에는 가능성이 높은 모델을 하나 찾았다고 가정하고 이 모델의 성능을 향상시킬 방법을 찾아봄\n",
        "\n",
        "한가지 방법은 에러의 종류를 분석하는 것"
      ]
    },
    {
      "cell_type": "code",
      "metadata": {
        "colab": {
          "base_uri": "https://localhost:8080/"
        },
        "id": "kPT3Me8sRKjn",
        "outputId": "e281903e-1d9e-4fe0-d756-b5b88af6218b"
      },
      "source": [
        "y_train_pred=cross_val_predict(sgd_clf, X_train_scaled, y_train, cv=3 )\n",
        "conf_mx=confusion_matrix(y_train, y_train_pred)\n",
        "conf_mx"
      ],
      "execution_count": 45,
      "outputs": [
        {
          "output_type": "stream",
          "name": "stderr",
          "text": [
            "/usr/local/lib/python3.7/dist-packages/sklearn/linear_model/_stochastic_gradient.py:557: ConvergenceWarning: Maximum number of iteration reached before convergence. Consider increasing max_iter to improve the fit.\n",
            "  ConvergenceWarning)\n",
            "/usr/local/lib/python3.7/dist-packages/sklearn/linear_model/_stochastic_gradient.py:557: ConvergenceWarning: Maximum number of iteration reached before convergence. Consider increasing max_iter to improve the fit.\n",
            "  ConvergenceWarning)\n",
            "/usr/local/lib/python3.7/dist-packages/sklearn/linear_model/_stochastic_gradient.py:557: ConvergenceWarning: Maximum number of iteration reached before convergence. Consider increasing max_iter to improve the fit.\n",
            "  ConvergenceWarning)\n"
          ]
        },
        {
          "output_type": "execute_result",
          "data": {
            "text/plain": [
              "array([[5722,    2,   28,    9,    8,   49,   51,   11,   41,    2],\n",
              "       [   2, 6494,   47,   23,    6,   42,    5,   10,  100,   13],\n",
              "       [  51,   37, 5360,   88,   82,   23,   96,   56,  149,   16],\n",
              "       [  51,   37,  149, 5318,    2,  248,   37,   57,  134,   98],\n",
              "       [  19,   25,   39,    8, 5378,    7,   54,   29,   77,  206],\n",
              "       [  73,   42,   35,  170,   73, 4622,  105,   30,  177,   94],\n",
              "       [  31,   24,   43,    2,   43,   88, 5635,    4,   47,    1],\n",
              "       [  20,   20,   65,   27,   58,   11,    6, 5806,   12,  240],\n",
              "       [  53,  147,   78,  164,   11,  163,   56,   24, 5017,  138],\n",
              "       [  42,   27,   25,   87,  175,   34,    3,  201,   85, 5270]])"
            ]
          },
          "metadata": {},
          "execution_count": 45
        }
      ]
    },
    {
      "cell_type": "code",
      "metadata": {
        "colab": {
          "base_uri": "https://localhost:8080/",
          "height": 275
        },
        "id": "BUQkxM1oSdmj",
        "outputId": "09a45265-d902-4959-9b82-83ec26f78428"
      },
      "source": [
        "#열은 추정값, 행은 실제값\n",
        "plt.matshow(conf_mx, cmap=plt.cm.gray)\n",
        "plt.show()"
      ],
      "execution_count": 46,
      "outputs": [
        {
          "output_type": "display_data",
          "data": {
            "image/png": "[encoded data removed]",
            "text/plain": [
              "<Figure size 288x288 with 1 Axes>"
            ]
          },
          "metadata": {
            "needs_background": "light"
          }
        }
      ]
    },
    {
      "cell_type": "code",
      "metadata": {
        "id": "dpvsc_z4VITM"
      },
      "source": [
        "row_sums=conf_mx.sum(axis=1, keepdims=True)\n",
        "norm_conf_mx=conf_mx/row_sums"
      ],
      "execution_count": 47,
      "outputs": []
    },
    {
      "cell_type": "code",
      "metadata": {
        "colab": {
          "base_uri": "https://localhost:8080/"
        },
        "id": "RDy9MMWCVS5Q",
        "outputId": "fe102719-2c4f-475c-96d1-b78ac5fce91d"
      },
      "source": [
        "a = np.array([[1,2,3],[4,5,6],[7,8,9]])\n",
        "a.sum(axis=1)  ### 2에서 1로 dim이 떨어짐"
      ],
      "execution_count": 48,
      "outputs": [
        {
          "output_type": "execute_result",
          "data": {
            "text/plain": [
              "array([ 6, 15, 24])"
            ]
          },
          "metadata": {},
          "execution_count": 48
        }
      ]
    },
    {
      "cell_type": "code",
      "metadata": {
        "colab": {
          "base_uri": "https://localhost:8080/"
        },
        "id": "XV24jxsGY_5c",
        "outputId": "9be68c1e-b497-4018-fdd9-7b7dc71f1991"
      },
      "source": [
        "a.sum(axis=1, keepdims=True) ### column을 유지하고 dim도 유지"
      ],
      "execution_count": 49,
      "outputs": [
        {
          "output_type": "execute_result",
          "data": {
            "text/plain": [
              "array([[ 6],\n",
              "       [15],\n",
              "       [24]])"
            ]
          },
          "metadata": {},
          "execution_count": 49
        }
      ]
    },
    {
      "cell_type": "code",
      "metadata": {
        "colab": {
          "base_uri": "https://localhost:8080/"
        },
        "id": "w8Py2MNqZCkX",
        "outputId": "66ff2a53-0dc6-4292-f781-e9dee0c013ad"
      },
      "source": [
        "a.sum(axis= 0, keepdims= True) ### row를 유지하고 dim도 유지"
      ],
      "execution_count": 50,
      "outputs": [
        {
          "output_type": "execute_result",
          "data": {
            "text/plain": [
              "array([[12, 15, 18]])"
            ]
          },
          "metadata": {},
          "execution_count": 50
        }
      ]
    },
    {
      "cell_type": "code",
      "metadata": {
        "colab": {
          "base_uri": "https://localhost:8080/",
          "height": 275
        },
        "id": "uacGLCssZF3s",
        "outputId": "6b15b84b-b0cf-4e96-f170-91e807716baa"
      },
      "source": [
        "np.fill_diagonal(norm_conf_mx, 0)\n",
        "plt.matshow(norm_conf_mx, cmap=plt.cm.gray)\n",
        "plt.show()"
      ],
      "execution_count": 51,
      "outputs": [
        {
          "output_type": "display_data",
          "data": {
            "image/png": "[encoded data removed]",
            "text/plain": [
              "<Figure size 288x288 with 1 Axes>"
            ]
          },
          "metadata": {
            "needs_background": "light"
          }
        }
      ]
    },
    {
      "cell_type": "markdown",
      "metadata": {
        "id": "tdCiZxyLZVMF"
      },
      "source": [
        "여기서 여러가지 분석을 할 수 있습니다.\n",
        "\n",
        "- 8과 9의 열이 상당히 밝으므로 많은 이미지가 8과 9로 잘못 분류되었음을 암시합니다.\n",
        "- 8과 9의 행도 밝으므로 숫자 8과 9가 다른 숫자들과 혼돈이 자주 됩니다.\n",
        "- 1의 열은 매우 어두우므로 대부분의 숫자 1이 정확하게 분류되었음을 의미합니다.\n",
        "- 에러는 대각선 기준 대칭이 아닙니다.\n",
        "\n",
        "이 그래프를 살펴보면 3과 5가 서로 혼돈되는 것을 보완하고 8과 9를 더 잘 분류할 수 있도록 개선할 필요가 있습니다.\n",
        "\n",
        "- 이 숫자들에 대한 훈련 데이터를 더 모을 수 있습니다.\n",
        "- 분류기에 도움이 될 만한 특성을 더 찾아볼 수 있습니다.\n",
        "- 예를 들어 동심원의 수를 세는 알고리즘을 추가할 수 있습니다."
      ]
    },
    {
      "cell_type": "code",
      "metadata": {
        "colab": {
          "base_uri": "https://localhost:8080/",
          "height": 466
        },
        "id": "bQVNEYecZRXx",
        "outputId": "56ed72e7-e136-47d1-ce39-a1d3f1aeb405"
      },
      "source": [
        "#우리의 분류기의 오차 행렬을 관찰했을 때, 우리의 분류기는 3과 5를 많이 헷갈려합니다. 이 개개의 에러를 분석하기 위해 3과 5의 샘플을 그려보겠습니다.\n",
        "\n",
        "def plot_digits(instances, images_per_row=10, **options):\n",
        "    size = 28\n",
        "    images_per_row = min(len(instances), images_per_row)\n",
        "    images = [instance.reshape(size,size) for instance in instances]\n",
        "    n_rows = (len(instances) - 1) // images_per_row + 1\n",
        "    row_images = []\n",
        "    n_empty = n_rows * images_per_row - len(instances)\n",
        "    images.append(np.zeros((size, size * n_empty)))\n",
        "    for row in range(n_rows):\n",
        "        rimages = images[row * images_per_row : (row + 1) * images_per_row]\n",
        "        row_images.append(np.concatenate(rimages, axis=1))\n",
        "    image = np.concatenate(row_images, axis=0)\n",
        "    plt.imshow(image, cmap = matplotlib.cm.binary, **options)\n",
        "    plt.axis(\"off\")\n",
        "cl_a, cl_b = 3, 5\n",
        "X_aa = X_train[(y_train == cl_a) & (y_train_pred == cl_a)]\n",
        "X_ab = X_train[(y_train == cl_a) & (y_train_pred == cl_b)]\n",
        "X_ba = X_train[(y_train == cl_b) & (y_train_pred == cl_a)]\n",
        "X_bb = X_train[(y_train == cl_b) & (y_train_pred == cl_b)]\n",
        "\n",
        "\n",
        "plt.figure(figsize=(8,8))\n",
        "plt.subplot(221); plot_digits(X_aa[:25], images_per_row=5)\n",
        "plt.subplot(222); plot_digits(X_ab[:25], images_per_row=5)\n",
        "plt.subplot(223); plot_digits(X_ba[:25], images_per_row=5)\n",
        "plt.subplot(224); plot_digits(X_bb[:25], images_per_row=5)\n",
        "plt.show()"
      ],
      "execution_count": 52,
      "outputs": [
        {
          "output_type": "display_data",
          "data": {
            "image/png": "[encoded data removed]",
            "text/plain": [
              "<Figure size 576x576 with 4 Axes>"
            ]
          },
          "metadata": {
            "needs_background": "light"
          }
        }
      ]
    },
    {
      "cell_type": "markdown",
      "metadata": {
        "id": "fOua-L_YahBL"
      },
      "source": [
        "# 다중 레이블 분류"
      ]
    },
    {
      "cell_type": "code",
      "metadata": {
        "colab": {
          "base_uri": "https://localhost:8080/"
        },
        "id": "uQ4IvdnjaEng",
        "outputId": "b46e8dd7-4c3e-4cf7-ea34-099ab0a575f4"
      },
      "source": [
        "from sklearn.neighbors import KNeighborsClassifier\n",
        "y_train_large=(y_train>=7)\n",
        "y_train_odd=(y_train%2==1)\n",
        "y_multilabel=np.c_[y_train_large, y_train_odd]\n",
        "\n",
        "knn_clf=KNeighborsClassifier()\n",
        "knn_clf.fit(X_train, y_multilabel)"
      ],
      "execution_count": 54,
      "outputs": [
        {
          "output_type": "execute_result",
          "data": {
            "text/plain": [
              "KNeighborsClassifier(algorithm='auto', leaf_size=30, metric='minkowski',\n",
              "                     metric_params=None, n_jobs=None, n_neighbors=5, p=2,\n",
              "                     weights='uniform')"
            ]
          },
          "metadata": {},
          "execution_count": 54
        }
      ]
    },
    {
      "cell_type": "code",
      "metadata": {
        "colab": {
          "base_uri": "https://localhost:8080/"
        },
        "id": "Wa_ljUuza45k",
        "outputId": "9ca4b8d2-097c-465b-9694-69d44aaff30d"
      },
      "source": [
        "knn_clf.predict([some_digit_9])"
      ],
      "execution_count": 55,
      "outputs": [
        {
          "output_type": "execute_result",
          "data": {
            "text/plain": [
              "array([[ True,  True]])"
            ]
          },
          "metadata": {},
          "execution_count": 55
        }
      ]
    },
    {
      "cell_type": "markdown",
      "metadata": {
        "id": "oHKVGHIsbc74"
      },
      "source": [
        "# 다중 출력 분류\n",
        "\n",
        "다중 출력 분류란 다중 레이블 분류에서 한 레이블이 다중 클래스가 될 수 있도록 일반화한 것입니다 .\n",
        "\n",
        "예를 들어 노이즈 제거가 있다."
      ]
    },
    {
      "cell_type": "code",
      "metadata": {
        "id": "jnLufALhbauT"
      },
      "source": [
        "# 노이즈가 들어간 샘플 만들기\n",
        "\n",
        "noise=np.random.randint(0,100, (len(X_train), 784))\n",
        "X_train_mod=X_train+noise\n",
        "noise=np.random.randint(0,100, (len(X_test), 784))\n",
        "X_test_mod=X_test+noise\n",
        "y_train_mod=X_train\n",
        "y_test_mod=X_test"
      ],
      "execution_count": 57,
      "outputs": []
    },
    {
      "cell_type": "code",
      "metadata": {
        "id": "lIYjK9sIcE-5"
      },
      "source": [
        "# 노이즈 들어간 샘플 그려보기\n",
        "\n",
        "def plot_digit(data):\n",
        "  image=data.reshape(28,28)\n",
        "  plt.imshow(image, cmap=matplotlib.cm.binary, interpolation=\"nearest\")\n",
        "  plt.axis(\"off\")"
      ],
      "execution_count": 58,
      "outputs": []
    },
    {
      "cell_type": "code",
      "metadata": {
        "colab": {
          "base_uri": "https://localhost:8080/",
          "height": 183
        },
        "id": "Inq7tIldcrHw",
        "outputId": "83deed65-af2c-4fb1-b498-d5c4f694e952"
      },
      "source": [
        "some_index=5500\n",
        "plt.subplot(121); plot_digit(X_test_mod[some_index])\n",
        "plt.subplot(122); plot_digit(y_test_mod[some_index])\n",
        "plt.show()"
      ],
      "execution_count": 59,
      "outputs": [
        {
          "output_type": "display_data",
          "data": {
            "image/png": "[encoded data removed]",
            "text/plain": [
              "<Figure size 432x288 with 2 Axes>"
            ]
          },
          "metadata": {
            "needs_background": "light"
          }
        }
      ]
    },
    {
      "cell_type": "code",
      "metadata": {
        "colab": {
          "base_uri": "https://localhost:8080/",
          "height": 248
        },
        "id": "rlzLbawCc_Ph",
        "outputId": "5801f2d7-da09-4cae-e51f-7d150122db1f"
      },
      "source": [
        "knn_clf.fit(X_train_mod, y_train_mod)\n",
        "clean_digit=knn_clf.predict([X_test_mod[some_index]])\n",
        "plot_digit(clean_digit)"
      ],
      "execution_count": 61,
      "outputs": [
        {
          "output_type": "display_data",
          "data": {
            "image/png": "[encoded data removed]",
            "text/plain": [
              "<Figure size 432x288 with 1 Axes>"
            ]
          },
          "metadata": {
            "needs_background": "light"
          }
        }
      ]
    },
    {
      "cell_type": "code",
      "metadata": {
        "id": "nomNv9BIdL0z"
      },
      "source": [
        ""
      ],
      "execution_count": null,
      "outputs": []
    }
  ]
}
